{
   "source": [
    "import pandas as pd\n",
    "\n",
    "# Combine all dataframes into a single one as you've done previously\n",
    "# combined_df should be the result of concatenating all CSV files\n",
    "\n",
    "# Filter for rows where the 'Chapter' column is blank but 'First Name' and 'Last Name' are not blank\n",
    "missing_chapter = combined_df[\n",
    "    (combined_df['Chapter'].isnull()) & \n",
    "    (combined_df['First Name'].notnull()) & \n",
    "    (combined_df['Last Name'].notnull())\n",
    "]\n",
    "\n",
    "# Display the filtered rows with first name, last name, and missing chapter\n",
    "print(missing_chapter[['First Name', 'Last Name']])\n"
   ]
  },
  {
   "cell_type": "code",
   "execution_count": null,
   "id": "f3524ec7-cecb-406d-95ae-f39aa0594aea",
   "metadata": {},
   "outputs": [],
   "source": [
    "import pandas as pd\n",
    "\n",
    "# Ensure that all rows and columns are printed without truncation\n",
    "pd.set_option('display.max_columns', None)\n",
    "pd.set_option('display.max_rows', None)\n",
    "\n",
    "# List of file paths\n",
    "file_paths = [\n",
    "    '/Users/gianniioannou/Downloads/BloodDonors/14. Zeta Tau Alpha and Delta Upsilon 2024 Blood Registration Sheet - 10-7 REGULAR Donations.csv',\n",
    "    '/Users/gianniioannou/Downloads/BloodDonors/14. Zeta Tau Alpha and Delta Upsilon 2024 Blood Registration Sheet - 10-8 REGULAR Donations.csv',\n",
    "    '/Users/gianniioannou/Downloads/BloodDonors/14. Zeta Tau Alpha and Delta Upsilon 2024 Blood Registration Sheet - 10-9 REGULAR Donations.csv',\n",
    "    '/Users/gianniioannou/Downloads/BloodDonors/14. Zeta Tau Alpha and Delta Upsilon 2024 Blood Registration Sheet - 10-10 REGULAR Donations.csv',\n",
    "    '/Users/gianniioannou/Downloads/BloodDonors/14. Zeta Tau Alpha and Delta Upsilon 2024 Blood Registration Sheet - 10-7 Power Red.csv',\n",
    "    '/Users/gianniioannou/Downloads/BloodDonors/14. Zeta Tau Alpha and Delta Upsilon 2024 Blood Registration Sheet - 10-8 Power Red.csv',\n",
    "    '/Users/gianniioannou/Downloads/BloodDonors/14. Zeta Tau Alpha and Delta Upsilon 2024 Blood Registration Sheet - 10-9 Power Red.csv',\n",
    "    '/Users/gianniioannou/Downloads/BloodDonors/14. Zeta Tau Alpha and Delta Upsilon 2024 Blood Registration Sheet - 10-10 Power Red.csv'\n",
    "]\n",
    "\n",
    "new_member_names = [\n",
    "    'John Doe', 'Jane Smith', 'Alex Johnson', 'Chris Lee', 'Pat Morgan', 'Taylor Brown', 'Casey Williams',\n",
    "    'Jordan Evans', 'Morgan White', 'Cameron Davis', 'Jamie Miller', 'Riley Scott', 'Charlie Young',\n",
    "    'Taylor Clark', 'Sam Thomas', 'Jordan Lewis', 'Drew Harris', 'Quinn Parker', 'Bailey Adams',\n",
    "    'Rowan Baker', 'Devon Campbell', 'Terry Kelly', 'Robin Green', 'Dylan Reed', 'Blake Wright',\n",
    "    'Alex Turner', 'Cameron Mitchell', 'Sydney Walker', 'Emery King', 'Jordan Moore', 'Taylor Cooper',\n",
    "    'Peyton Nelson', 'Drew Simmons', 'Casey Brooks', 'Logan Bailey', 'Jamie Foster', 'Skylar Hughes',\n",
    "    'Avery Bennett', 'Rowan Murphy', 'Quinn Price', 'Morgan Stewart', 'Riley Morgan', 'Alex Foster',\n",
    "    'Blake Martin', 'Bailey Rivera', 'Taylor Bennett', 'Devon Collins', 'Jordan Perry', 'Emery Phillips',\n",
    "    'Drew Carter', 'Skylar Brooks', 'Rowan Hayes', 'Patrice Bell', 'Peyton Harper', 'Chris Blake'\n",
    "]\n",
    "\n",
    "\n",
    "# Initialize a list to hold all dataframes\n",
    "dataframes = []\n",
    "\n",
    "for file_path in file_paths:\n",
    "    # Read the CSV, skipping the first two rows\n",
    "    df = pd.read_csv(file_path, skiprows=2)\n",
    "    \n",
    "    # Add the donation type based on the file name\n",
    "    if \"REGULAR\" in file_path:\n",
    "        df['Donation Type'] = 'Regular Donor'\n",
    "    elif \"Power Red\" in file_path:\n",
    "        df['Donation Type'] = 'Power Red Donor'\n",
    "        \n",
    "    # Extract the correct date from the file name (last part before \".csv\")\n",
    "    date_part = file_path.split(' - ')[-1].split(' ')[0]\n",
    "    df['Donation Date'] = date_part\n",
    "    \n",
    "    # Append the dataframe to the list\n",
    "    dataframes.append(df)\n",
    "    \n",
    "# Combine all dataframes into a single one\n",
    "combined_df = pd.concat(dataframes, ignore_index=True)\n",
    "\n",
    "# Rename the columns to more useful names\n",
    "combined_df = combined_df.rename(columns={\n",
    "    'Unnamed: 2': 'First Name', \n",
    "    'Unnamed: 3': 'Last Name',\n",
    "    'Chapter': 'Chapter'\n",
    "})\n",
    "\n",
    "# Now we filter for Delta Upsilon members\n",
    "delta_upsilon_donors = combined_df[combined_df['Chapter'] == 'Delta Upsilon'][['First Name', 'Last Name', 'Donation Date', 'Donation Type']]\n",
    "\n",
    "# Combine first and last names for matching\n",
    "delta_upsilon_donors['Full Name'] = delta_upsilon_donors['First Name'].fillna('') + ' ' + delta_upsilon_donors['Last Name'].fillna('')\n",
    "\n",
    "# Remove any extra spaces in the names\n",
    "delta_upsilon_donors['Full Name'] = delta_upsilon_donors['Full Name'].str.strip()\n",
    "\n",
    "# Separate matching and non-matching names\n",
    "matching_names = delta_upsilon_donors[delta_upsilon_donors['Full Name'].isin(new_member_names)]\n",
    "non_matching_names = delta_upsilon_donors[~delta_upsilon_donors['Full Name'].isin(new_member_names)]"
   ]
  },
  {
   "cell_type": "code",
   "execution_count": null,
   "id": "21b6b547-0136-4324-a59a-620705da36ca",
   "metadata": {},
   "outputs": [],
   "source": [
    "print(f\"Total number of Delta Upsilon donors: {len(delta_upsilon_donors)}\")\n",
    "print(delta_upsilon_donors)"
   ]
  },
  {
   "cell_type": "code",
   "execution_count": null,
   "id": "82015a53-6357-4b33-9cea-8b6d1b58bc92",
   "metadata": {},
   "outputs": [],
   "source": [
    "print(f\"\\nNumber of Matching Names: {len(matching_names)}\")\n",
    "print(\"Matching Names:\")\n",
    "print(matching_names[['First Name', 'Last Name', 'Donation Date', 'Donation Type']])"
   ]
  },
  {
   "cell_type": "code",
   "execution_count": null,
   "id": "aeda3f62-de30-4626-8c3f-4c815c6d67d9",
   "metadata": {},
   "outputs": [],
   "source": [
    "print(f\"\\nNumber of Non-Matching Names: {len(non_matching_names)}\")\n",
    "print(\"Non-Matching Names:\")\n",
    "print(non_matching_names[['First Name', 'Last Name', 'Donation Date', 'Donation Type']])"
   ]
  },
  {
   "cell_type": "code",
   "execution_count": null,
   "id": "59379bd0-0150-4416-905e-cf3bdda78660",
   "metadata": {},
   "outputs": [],
   "source": []
  }
 ],
 "metadata": {
  "kernelspec": {
   "display_name": "Python 3 (ipykernel)",
   "language": "python",
   "name": "python3"
  },
  "language_info": {
   "codemirror_mode": {
    "name": "ipython",
    "version": 3
   },
   "file_extension": ".py",
   "mimetype": "text/x-python",
   "name": "python",
   "nbconvert_exporter": "python",
   "pygments_lexer": "ipython3",
   "version": "3.9.13"
  }
 },
 "nbformat": 4,
 "nbformat_minor": 5
}
